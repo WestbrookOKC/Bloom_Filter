{
 "cells": [
  {
   "cell_type": "code",
   "execution_count": 149,
   "id": "0144e8de",
   "metadata": {},
   "outputs": [],
   "source": [
    "# import necessary libraries, with two extra hash function and one default hash function\n",
    "from bitarray import bitarray\n",
    "import mmh3\n",
    "import jhashcode"
   ]
  },
  {
   "cell_type": "code",
   "execution_count": 150,
   "id": "610c2a06",
   "metadata": {},
   "outputs": [],
   "source": [
    "# reading username_30.txt file\n",
    "# create set S by appending context to the list\n",
    "\n",
    "open_file_30 = open(\"listed_username_30.txt\", \"r\")\n",
    "\n",
    "S = []\n",
    "for x in open_file_30:\n",
    "    S.append(x)\n",
    "open_file_30.close()"
   ]
  },
  {
   "cell_type": "code",
   "execution_count": 139,
   "id": "87d388b8",
   "metadata": {},
   "outputs": [
    {
     "data": {
      "text/plain": [
       "['!Alain\\n',\n",
       " '#file_links[\"C:urlsactivity0711.txt\",1,N]\\n',\n",
       " '#file_links[\"C:urlsactivity1311.txt\",1,N]\\n',\n",
       " '#file_links[\"C:workmacrosincacar_url.txt\",1,N]\\n',\n",
       " '#file_links[\"C:\\\\\\\\urls\\\\\\\\activity0311.txt\",1,N]\\n']"
      ]
     },
     "execution_count": 139,
     "metadata": {},
     "output_type": "execute_result"
    }
   ],
   "source": [
    "S[:5]"
   ]
  },
  {
   "cell_type": "code",
   "execution_count": 151,
   "id": "f3ec508f",
   "metadata": {},
   "outputs": [],
   "source": [
    "# reading file from user_365.txt\n",
    "# do the same thing like last code block\n",
    "\n",
    "open_file_365 = open(\"listed_username_365.txt\", \"r\")\n",
    "\n",
    "stream = []\n",
    "for x in open_file_365:\n",
    "    stream.append(x)\n",
    "open_file_365.close()"
   ]
  },
  {
   "cell_type": "code",
   "execution_count": 141,
   "id": "8ac979ce",
   "metadata": {},
   "outputs": [
    {
     "data": {
      "text/plain": [
       "['!!!!AAAiiizz\\n',\n",
       " '!!!Aomnzbzxd\\n',\n",
       " '!!!Azamant\\n',\n",
       " '!!!gxgvegfibhcs\\n',\n",
       " '!!AbcaBlida\\n']"
      ]
     },
     "execution_count": 141,
     "metadata": {},
     "output_type": "execute_result"
    }
   ],
   "source": [
    "stream[:5]"
   ]
  },
  {
   "cell_type": "code",
   "execution_count": 116,
   "id": "eb17c0de",
   "metadata": {},
   "outputs": [],
   "source": [
    "# define number of hash function\n",
    "# initialize the bitarray, initally all 0s\n",
    "\n",
    "hash_memory_size = len(S)\n",
    "B = bitarray(hash_memory_size)"
   ]
  },
  {
   "cell_type": "code",
   "execution_count": 117,
   "id": "1999a43a",
   "metadata": {},
   "outputs": [],
   "source": [
    "# set bitarray to be all 0s\n",
    "B.setall(0)"
   ]
  },
  {
   "cell_type": "code",
   "execution_count": 39,
   "id": "59355e6b",
   "metadata": {},
   "outputs": [
    {
     "data": {
      "text/plain": [
       "bitarray('00000')"
      ]
     },
     "execution_count": 39,
     "metadata": {},
     "output_type": "execute_result"
    }
   ],
   "source": [
    "B[:5]"
   ]
  },
  {
   "cell_type": "code",
   "execution_count": 61,
   "id": "f1275379",
   "metadata": {},
   "outputs": [],
   "source": [
    "# model with only using one hash function\n",
    "# set bit to 1, like B[h(s)] = 1\n",
    "hash_table = {}\n",
    "for i in S:\n",
    "    hash_value = mmh3.hash(i) % hash_memory_size\n",
    "    B[hash_value] = 1\n",
    "    hash_table[i] = i"
   ]
  },
  {
   "cell_type": "code",
   "execution_count": 78,
   "id": "38f453fe",
   "metadata": {},
   "outputs": [],
   "source": [
    "# model with two hash function\n",
    "hash_table2 = {}\n",
    "for i in S:\n",
    "    hash_value = mmh3.hash(i) % hash_memory_size\n",
    "    hash_value2 = jhashcode.hashcode(i) % hash_memory_size\n",
    "    B[hash_value] = 1\n",
    "    B[hash_value2] = 1\n",
    "    hash_table2[i] = i"
   ]
  },
  {
   "cell_type": "code",
   "execution_count": 125,
   "id": "05a937e9",
   "metadata": {},
   "outputs": [],
   "source": [
    "# model with three hash function\n",
    "hash_table3 = {}\n",
    "for i in S:\n",
    "    hash_value = mmh3.hash(i) % hash_memory_size\n",
    "    hash_value2 = jhashcode.hashcode(i) % hash_memory_size\n",
    "    hash_value3 = hash(i) % hash_memory_size\n",
    "    B[hash_value] = 1\n",
    "    B[hash_value2] = 1\n",
    "    B[hash_value3] = 1\n",
    "    hash_table3[i] = i"
   ]
  },
  {
   "cell_type": "code",
   "execution_count": 119,
   "id": "d6f9cf3f",
   "metadata": {},
   "outputs": [
    {
     "data": {
      "text/plain": [
       "bitarray('11111')"
      ]
     },
     "execution_count": 119,
     "metadata": {},
     "output_type": "execute_result"
    }
   ],
   "source": [
    "B[:5]"
   ]
  },
  {
   "cell_type": "code",
   "execution_count": 152,
   "id": "fd62a8ed",
   "metadata": {},
   "outputs": [],
   "source": [
    "def get_FPR_one_hash():\n",
    "    # initialize false postive and true negative to 0\n",
    "    FP = 0\n",
    "    TN = 0\n",
    "    for i in stream:\n",
    "        stream_value = mmh3.hash(i) % hash_memory_size\n",
    "        if B[stream_value] == 1:\n",
    "            if i not in hash_table:\n",
    "                FP += 1\n",
    "        else:\n",
    "            TN += 1\n",
    "    return float(FP)/(TN+FP)*100"
   ]
  },
  {
   "cell_type": "code",
   "execution_count": 83,
   "id": "721c7bd1",
   "metadata": {},
   "outputs": [
    {
     "data": {
      "text/plain": [
       "86.38578708259958"
      ]
     },
     "execution_count": 83,
     "metadata": {},
     "output_type": "execute_result"
    }
   ],
   "source": [
    "get_FPR_one_hash()"
   ]
  },
  {
   "cell_type": "code",
   "execution_count": 153,
   "id": "4c2f5eb9",
   "metadata": {},
   "outputs": [],
   "source": [
    "def get_FPR_two_hash():\n",
    "    # initialize false postive and true negative to 0\n",
    "    FP = 0\n",
    "    TN = 0\n",
    "    for i in stream:\n",
    "        stream_value = mmh3.hash(i) % hash_memory_size\n",
    "        stream_value2 = jhashcode.hashcode(i) % hash_memory_size\n",
    "        if B[stream_value] == 1 and B[stream_value2] == 1:\n",
    "            if i not in hash_table:\n",
    "                FP += 1\n",
    "        else:\n",
    "            TN += 1\n",
    "    return float(FP)/(TN+FP)*100"
   ]
  },
  {
   "cell_type": "code",
   "execution_count": 85,
   "id": "011bf9ab",
   "metadata": {},
   "outputs": [
    {
     "data": {
      "text/plain": [
       "74.59041059505039"
      ]
     },
     "execution_count": 85,
     "metadata": {},
     "output_type": "execute_result"
    }
   ],
   "source": [
    "get_FPR_two_hash()"
   ]
  },
  {
   "cell_type": "code",
   "execution_count": 154,
   "id": "22e2d658",
   "metadata": {},
   "outputs": [],
   "source": [
    "def get_FPR_three_hash():\n",
    "    # initialize false postive and true negative to 0\n",
    "    FP = 0\n",
    "    TN = 0\n",
    "    for i in stream:\n",
    "        stream_value = mmh3.hash(i) % hash_memory_size\n",
    "        stream_value2 = jhashcode.hashcode(i) % hash_memory_size\n",
    "        stream_value3 = hash(i) % hash_memory_size\n",
    "        if B[stream_value] == 1 and B[stream_value2] == 1 and B[stream_value3] == 1:\n",
    "            if i not in hash_table:\n",
    "                FP += 1\n",
    "        else:\n",
    "            TN += 1\n",
    "    return float(FP)/(TN+FP)*100"
   ]
  },
  {
   "cell_type": "code",
   "execution_count": 127,
   "id": "17a6e755",
   "metadata": {},
   "outputs": [
    {
     "data": {
      "text/plain": [
       "94.57304593880455"
      ]
     },
     "execution_count": 127,
     "metadata": {},
     "output_type": "execute_result"
    }
   ],
   "source": [
    "get_FPR_three_hash()"
   ]
  },
  {
   "cell_type": "code",
   "execution_count": 155,
   "id": "19b3ed28",
   "metadata": {},
   "outputs": [],
   "source": [
    "# collect different n performance with one hash function\n",
    "history_one_hash = []\n",
    "\n",
    "for x in (2**p for p in range(1, 4)):\n",
    "    hash_memory_size = len(S) * x\n",
    "    B = bitarray(hash_memory_size)\n",
    "    B.setall(0)\n",
    "\n",
    "    hash_table = {}\n",
    "    for i in S:\n",
    "        hash_value = mmh3.hash(i) % hash_memory_size\n",
    "        B[hash_value] = 1\n",
    "        hash_table[i] = i  \n",
    "    history_one_hash.append(get_FPR_one_hash())"
   ]
  },
  {
   "cell_type": "code",
   "execution_count": 158,
   "id": "1b27b98e",
   "metadata": {},
   "outputs": [],
   "source": [
    "# collect different n performance with two hash function\n",
    "history_two_hash = []\n",
    "\n",
    "for x in (2**p for p in range(1, 4)):\n",
    "    hash_memory_size = len(S) * x\n",
    "    B = bitarray(hash_memory_size)\n",
    "    B.setall(0)\n",
    "\n",
    "    hash_table2 = {}\n",
    "    for i in S:\n",
    "        hash_value = mmh3.hash(i) % hash_memory_size\n",
    "        hash_value2 = jhashcode.hashcode(i) % hash_memory_size\n",
    "        B[hash_value] = 1\n",
    "        B[hash_value2] = 1\n",
    "        hash_table2[i] = i\n",
    "    history_two_hash.append(get_FPR_two_hash())"
   ]
  },
  {
   "cell_type": "code",
   "execution_count": 161,
   "id": "6ba58643",
   "metadata": {},
   "outputs": [],
   "source": [
    "# collect different n performance with three hash function\n",
    "history_three_hash = []\n",
    "\n",
    "for x in (2**p for p in range(1, 4)):\n",
    "    hash_memory_size = len(S) * x\n",
    "    B = bitarray(hash_memory_size)\n",
    "    B.setall(0)\n",
    "\n",
    "    hash_table3 = {}\n",
    "    for i in S:\n",
    "        hash_value = mmh3.hash(i) % hash_memory_size\n",
    "        hash_value2 = jhashcode.hashcode(i) % hash_memory_size\n",
    "        hash_value3 = hash(i) % hash_memory_size\n",
    "        B[hash_value] = 1\n",
    "        B[hash_value2] = 1\n",
    "        B[hash_value3] = 1\n",
    "        hash_table3[i] = i\n",
    "        \n",
    "    history_three_hash.append(get_FPR_three_hash())"
   ]
  },
  {
   "cell_type": "code",
   "execution_count": 163,
   "id": "b7aeb320",
   "metadata": {},
   "outputs": [
    {
     "data": {
      "text/plain": [
       "[46.8469817074887, 14.70563248444576, 3.0568806362844034]"
      ]
     },
     "execution_count": 163,
     "metadata": {},
     "output_type": "execute_result"
    }
   ],
   "source": [
    "history_three_hash"
   ]
  },
  {
   "cell_type": "code",
   "execution_count": 162,
   "id": "4f274abb",
   "metadata": {},
   "outputs": [],
   "source": [
    "import matplotlib.pyplot as plt"
   ]
  },
  {
   "cell_type": "code",
   "execution_count": 165,
   "id": "dababbff",
   "metadata": {},
   "outputs": [
    {
     "data": {
      "image/png": "[encoded data removed]",
      "text/plain": [
       "<Figure size 432x288 with 1 Axes>"
      ]
     },
     "metadata": {
      "needs_background": "light"
     },
     "output_type": "display_data"
    }
   ],
   "source": [
    "fig, ax = plt.subplots()\n",
    "\n",
    "x = [2,4,8]\n",
    "ax.plot(x, history_one_hash, label='one_hash_function') \n",
    "ax.plot(x, history_two_hash, label='two_hash_function') \n",
    "ax.plot(x, history_three_hash, label='three_hash_function') \n",
    "\n",
    "ax.set_xlabel('hashing memory size')\n",
    "ax.set_ylabel('False Positive Rate') \n",
    "ax.set_title('Different K with different N') \n",
    "\n",
    "ax.legend() \n",
    "\n",
    "plt.show()\n"
   ]
  },
  {
   "cell_type": "code",
   "execution_count": 175,
   "id": "0fca37b0",
   "metadata": {},
   "outputs": [
    {
     "name": "stdout",
     "output_type": "stream",
     "text": [
      "The optimal number of hash function(k):  3\n",
      "My hashing memory size(n) is:  8\n",
      "Percentage of false postives: 3.0568806362844034%\n"
     ]
    }
   ],
   "source": [
    "# all the result is found out from the plot\n",
    "print(\"The optimal number of hash function(k): \", 3)\n",
    "print(\"My hashing memory size(n) is: \", 8)\n",
    "print(\"Percentage of false postives: \"+str(history_three_hash[2])+'%')"
   ]
  }
 ],
 "metadata": {
  "kernelspec": {
   "display_name": "Python 3 (ipykernel)",
   "language": "python",
   "name": "python3"
  },
  "language_info": {
   "codemirror_mode": {
    "name": "ipython",
    "version": 3
   },
   "file_extension": ".py",
   "mimetype": "text/x-python",
   "name": "python",
   "nbconvert_exporter": "python",
   "pygments_lexer": "ipython3",
   "version": "3.8.9"
  }
 },
 "nbformat": 4,
 "nbformat_minor": 5
}
